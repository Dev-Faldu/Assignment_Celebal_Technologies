{
 "cells": [
  {
   "cell_type": "code",
   "execution_count": null,
   "id": "89c48e34",
   "metadata": {
    "vscode": {
     "languageId": "plaintext"
    }
   },
   "outputs": [],
   "source": [
    "import pandas as pd\n",
    "import numpy as np\n",
    "import matplotlib.pyplot as plt\n",
    "import seaborn as sns\n",
    "import plotly.express as px\n",
    "import plotly.graph_objects as go\n",
    "from plotly.subplots import make_subplots\n",
    "import warnings\n",
    "warnings.filterwarnings('ignore')\n",
    "\n",
    "plt.style.use('seaborn-v0_8-darkgrid')\n",
    "sns.set_palette(\"husl\")\n",
    "plt.rcParams['figure.figsize'] = (12, 8)\n",
    "plt.rcParams['font.size'] = 12\n",
    "plt.rcParams['axes.titlesize'] = 16\n",
    "plt.rcParams['axes.labelsize'] = 14\n",
    "\n",
    "import os\n",
    "os.makedirs('visuals', exist_ok=True)\n",
    "os.makedirs('data', exist_ok=True)\n",
    "\n",
    "print(\"TITANIC VISUALIZATION\")\n",
    "print(\"=\" * 60)\n"
   ]
  },
  {
   "cell_type": "code",
   "execution_count": null,
   "id": "7f89650c",
   "metadata": {
    "vscode": {
     "languageId": "plaintext"
    }
   },
   "outputs": [],
   "source": [
    "df = sns.load_dataset('titanic')\n",
    "print(f\" Dataset Loaded: {df.shape[0]} passengers, {df.shape[1]} features\")\n",
    "print(\"\\n Initial Dataset Info:\")\n",
    "print(df.info())\n",
    "\n",
    "print(\"\\n Missing Data Analysis:\")\n",
    "missing_data = df.isnull().sum()\n",
    "missing_percent = (missing_data / len(df)) * 100\n",
    "missing_df = pd.DataFrame({\n",
    "    'Missing Count': missing_data,\n",
    "    'Missing Percentage': missing_percent\n",
    "}).sort_values('Missing Percentage', ascending=False)\n",
    "print(missing_df[missing_df['Missing Count'] > 0])\n",
    "\n",
    "print(\"\\n Executing Elite Data Cleaning...\")\n",
    "\n",
    "columns_to_drop = ['deck', 'embark_town', 'alive', 'who', 'adult_male', 'alone']\n",
    "df_clean = df.drop(columns=columns_to_drop, errors='ignore')\n",
    "\n",
    "age_median_by_survival_sex = df_clean.groupby(['survived', 'sex'])['age'].median()\n",
    "print(\" Age Median by Survival & Gender:\")\n",
    "print(age_median_by_survival_sex)\n",
    "\n",
    "def fill_age(row):\n",
    "    if pd.isna(row['age']):\n",
    "        return age_median_by_survival_sex[row['survived'], row['sex']]\n",
    "    return row['age']\n",
    "\n",
    "df_clean['age'] = df_clean.apply(fill_age, axis=1)\n",
    "\n",
    "df_clean['embarked'].fillna(df_clean['embarked'].mode()[0], inplace=True)\n",
    "\n",
    "df_clean['age_group'] = pd.cut(df_clean['age'], \n",
    "                               bins=[0, 12, 18, 35, 60, 100], \n",
    "                               labels=['Child', 'Teen', 'Young Adult', 'Adult', 'Senior'])\n",
    "\n",
    "df_clean['fare_category'] = pd.cut(df_clean['fare'], \n",
    "                                   bins=[0, 10, 30, 100, 1000], \n",
    "                                   labels=['Low', 'Medium', 'High', 'Luxury'])\n",
    "\n",
    "print(f\" Cleaning Complete! Final dataset: {df_clean.shape}\")\n",
    "print(f\" Missing values remaining: {df_clean.isnull().sum().sum()}\")\n"
   ]
  },
  {
   "cell_type": "code",
   "execution_count": null,
   "id": "9c46230f",
   "metadata": {
    "vscode": {
     "languageId": "plaintext"
    }
   },
   "outputs": [],
   "source": [
    "fig, (ax1, ax2) = plt.subplots(1, 2, figsize=(20, 8))\n",
    "\n",
    "sns.histplot(data=df_clean, x='age', kde=True, alpha=0.7, \n",
    "             color='steelblue', ax=ax1, bins=30)\n",
    "ax1.set_title(' Age Distribution of Titanic Passengers', \n",
    "              fontsize=18, fontweight='bold', pad=20)\n",
    "ax1.set_xlabel('Age (Years)', fontsize=14)\n",
    "ax1.set_ylabel('Frequency', fontsize=14)\n",
    "ax1.grid(True, alpha=0.3)\n",
    "\n",
    "sns.histplot(data=df_clean, x='age', hue='survived', kde=True, \n",
    "             alpha=0.7, ax=ax2, bins=30)\n",
    "ax2.set_title(' Age Distribution by Survival Status', \n",
    "              fontsize=18, fontweight='bold', pad=20)\n",
    "ax2.set_xlabel('Age (Years)', fontsize=14)\n",
    "ax2.set_ylabel('Frequency', fontsize=14)\n",
    "ax2.legend(['Died', 'Survived'], title='Survival Status')\n",
    "ax2.grid(True, alpha=0.3)\n",
    "\n",
    "plt.tight_layout()\n",
    "plt.savefig('visuals/age_distribution_kde.png', dpi=300, bbox_inches='tight')\n",
    "plt.show()\n",
    "\n",
    "print(\" Age Distribution Visualization Saved!\")\n"
   ]
  },
  {
   "cell_type": "code",
   "execution_count": null,
   "id": "eb8d4138",
   "metadata": {
    "vscode": {
     "languageId": "plaintext"
    }
   },
   "outputs": [],
   "source": [
    "fig, (ax1, ax2) = plt.subplots(1, 2, figsize=(20, 8))\n",
    "\n",
    "sns.countplot(data=df_clean, x='sex', hue='survived', \n",
    "              palette=['#FF6B6B', '#4ECDC4'], ax=ax1)\n",
    "ax1.set_title(' Survival Rate by Gender\\n\"Ladies First Policy\"', \n",
    "              fontsize=16, fontweight='bold', pad=20)\n",
    "ax1.set_xlabel('Gender', fontsize=14)\n",
    "ax1.set_ylabel('Number of Passengers', fontsize=14)\n",
    "ax1.legend(['Died', 'Survived'], title='Survival Status')\n",
    "\n",
    "for container in ax1.containers:\n",
    "    ax1.bar_label(container, fmt='%d')\n",
    "\n",
    "sns.countplot(data=df_clean, x='pclass', hue='survived', \n",
    "              palette=['#FF6B6B', '#4ECDC4'], ax=ax2)\n",
    "ax2.set_title(' Survival Rate by Passenger Class\\n\"Money Talks\"', \n",
    "              fontsize=16, fontweight='bold', pad=20)\n",
    "ax2.set_xlabel('Passenger Class', fontsize=14)\n",
    "ax2.set_ylabel('Number of Passengers', fontsize=14)\n",
    "ax2.legend(['Died', 'Survived'], title='Survival Status')\n",
    "\n",
    "for container in ax2.containers:\n",
    "    ax2.bar_label(container, fmt='%d')\n",
    "\n",
    "plt.tight_layout()\n",
    "plt.savefig('visuals/survival_by_gender_class.png', dpi=300, bbox_inches='tight')\n",
    "plt.show()\n",
    "\n",
    "print(\" Gender & Class Survival Analysis Saved!\")\n"
   ]
  },
  {
   "cell_type": "code",
   "execution_count": null,
   "id": "4e0d3932",
   "metadata": {
    "vscode": {
     "languageId": "plaintext"
    }
   },
   "outputs": [],
   "source": [
    "fig, ax = plt.subplots(figsize=(16, 10))\n",
    "\n",
    "# Create the scatter plot with survival color coding\n",
    "scatter = sns.scatterplot(data=df_clean, x='age', y='fare', \n",
    "                         hue='survived', style='sex', s=100, \n",
    "                         alpha=0.8, ax=ax)\n",
    "\n",
    "ax.set_title(' Fare vs Age: The Economics of Survival\\n\"Age, Wealth, and Destiny\"', \n",
    "             fontsize=18, fontweight='bold', pad=20)\n",
    "ax.set_xlabel('Age (Years)', fontsize=14)\n",
    "ax.set_ylabel('Fare Paid (£)', fontsize=14)\n",
    "\n",
    "handles, labels = ax.get_legend_handles_labels()\n",
    "survival_legend = plt.legend(handles[:2], ['Died', 'Survived'], \n",
    "                           title='Survival Status', loc='upper left')\n",
    "plt.gca().add_artist(survival_legend)\n",
    "plt.legend(handles[3:], ['Female', 'Male'], title='Gender', loc='upper right')\n",
    "\n",
    "sns.regplot(data=df_clean[df_clean['survived']==0], x='age', y='fare', \n",
    "           scatter=False, color='red', alpha=0.5, ax=ax)\n",
    "sns.regplot(data=df_clean[df_clean['survived']==1], x='age', y='fare', \n",
    "           scatter=False, color='green', alpha=0.5, ax=ax)\n",
    "\n",
    "plt.grid(True, alpha=0.3)\n",
    "plt.savefig('visuals/fare_age_scatter.png', dpi=300, bbox_inches='tight')\n",
    "plt.show()\n",
    "\n",
    "print(\" Fare vs Age Scatter Plot Saved!\")\n"
   ]
  },
  {
   "cell_type": "code",
   "execution_count": null,
   "id": "8d955b02",
   "metadata": {
    "vscode": {
     "languageId": "plaintext"
    }
   },
   "outputs": [],
   "source": [
    "numeric_cols = ['survived', 'pclass', 'age', 'sibsp', 'parch', 'fare']\n",
    "df_numeric = df_clean[numeric_cols].copy()\n",
    "\n",
    "df_numeric['sex_encoded'] = df_clean['sex'].map({'male': 0, 'female': 1})\n",
    "df_numeric['embarked_encoded'] = df_clean['embarked'].map({'S': 0, 'C': 1, 'Q': 2})\n",
    "\n",
    "correlation_matrix = df_numeric.corr()\n",
    "\n",
    "fig, ax = plt.subplots(figsize=(14, 12))\n",
    "\n",
    "mask = np.triu(np.ones_like(correlation_matrix, dtype=bool))\n",
    "sns.heatmap(correlation_matrix, \n",
    "            mask=mask,\n",
    "            annot=True, \n",
    "            cmap='RdYlBu_r', \n",
    "            center=0,\n",
    "            square=True, \n",
    "            linewidths=0.5, \n",
    "            cbar_kws={\"shrink\": .8},\n",
    "            fmt='.2f',\n",
    "            annot_kws={'size': 12, 'weight': 'bold'})\n",
    "\n",
    "ax.set_title(' Titanic Features Correlation Matrix\\n\"Uncovering Hidden Relationships\"', \n",
    "             fontsize=18, fontweight='bold', pad=30)\n",
    "\n",
    "# Rotate labels for better readability\n",
    "plt.xticks(rotation=45, ha='right')\n",
    "plt.yticks(rotation=0)\n",
    "\n",
    "plt.tight_layout()\n",
    "plt.savefig('visuals/correlation_heatmap.png', dpi=300, bbox_inches='tight')\n",
    "plt.show()\n",
    "\n",
    "print(\" Correlation Heatmap Saved!\")\n"
   ]
  },
  {
   "cell_type": "code",
   "execution_count": null,
   "id": "17cd3b1f",
   "metadata": {
    "vscode": {
     "languageId": "plaintext"
    }
   },
   "outputs": [],
   "source": [
    "fig, (ax1, ax2) = plt.subplots(1, 2, figsize=(20, 8))\n",
    "\n",
    "sns.violinplot(data=df_clean, x='survived', y='age', \n",
    "               palette=['#FF6B6B', '#4ECDC4'], ax=ax1)\n",
    "ax1.set_title(' Age Distribution by Survival Status\\n\"The Shape of Life and Death\"', \n",
    "              fontsize=16, fontweight='bold', pad=20)\n",
    "ax1.set_xlabel('Survival Status', fontsize=14)\n",
    "ax1.set_ylabel('Age (Years)', fontsize=14)\n",
    "ax1.set_xticklabels(['Died', 'Survived'])\n",
    "\n",
    "sns.boxplot(data=df_clean, x='pclass', y='age', hue='survived',\n",
    "            palette=['#FF6B6B', '#4ECDC4'], ax=ax2)\n",
    "sns.swarmplot(data=df_clean, x='pclass', y='age', hue='survived',\n",
    "              palette=['darkred', 'darkgreen'], size=3, alpha=0.6, ax=ax2)\n",
    "\n",
    "ax2.set_title(' Age Distribution by Class & Survival\\n\"Class Warfare Visualization\"', \n",
    "              fontsize=16, fontweight='bold', pad=20)\n",
    "ax2.set_xlabel('Passenger Class', fontsize=14)\n",
    "ax2.set_ylabel('Age (Years)', fontsize=14)\n",
    "ax2.legend(['Died', 'Survived'], title='Survival Status')\n",
    "\n",
    "plt.tight_layout()\n",
    "plt.savefig('visuals/age_violin_plot.png', dpi=300, bbox_inches='tight')\n",
    "plt.show()\n",
    "\n",
    "print(\" Age Violin Plot Saved!\")\n"
   ]
  },
  {
   "cell_type": "code",
   "execution_count": null,
   "id": "f56f6ebb",
   "metadata": {
    "vscode": {
     "languageId": "plaintext"
    }
   },
   "outputs": [],
   "source": [
    "df_sunburst = df_clean.copy()\n",
    "df_sunburst['survived_label'] = df_sunburst['survived'].map({0: 'Died', 1: 'Survived'})\n",
    "df_sunburst['class_label'] = 'Class ' + df_sunburst['pclass'].astype(str)\n",
    "\n",
    "sunburst_data = df_sunburst.groupby(['class_label', 'sex', 'survived_label']).size().reset_index(name='count')\n",
    "\n",
    "fig = px.sunburst(sunburst_data, \n",
    "                  path=['class_label', 'sex', 'survived_label'], \n",
    "                  values='count',\n",
    "                  color='count',\n",
    "                  color_continuous_scale='RdYlBu',\n",
    "                  title=' Interactive Titanic Survival Sunburst<br><sub>Hover and Click to Explore!</sub>')\n",
    "\n",
    "fig.update_layout(\n",
    "    title_font_size=24,\n",
    "    title_x=0.5,\n",
    "    width=800,\n",
    "    height=800,\n",
    "    font=dict(size=14)\n",
    ")\n",
    "\n",
    "fig.write_html('visuals/survival_sunburst.html')\n",
    "fig.show()\n",
    "\n",
    "print(\" Interactive Sunburst Chart Saved as HTML!\")\n"
   ]
  },
  {
   "cell_type": "code",
   "execution_count": null,
   "id": "d72e2cdb",
   "metadata": {
    "vscode": {
     "languageId": "plaintext"
    }
   },
   "outputs": [],
   "source": [
    "!pip install ydata-profiling\n",
    "\n",
    "try:\n",
    "    from ydata_profiling import ProfileReport\n",
    "    \n",
    "    print(\" Generating Comprehensive EDA Report...\")\n",
    "    \n",
    "    profile = ProfileReport(df_clean, \n",
    "                          title=\"Titanic Dataset - Elite EDA Report\",\n",
    "                          explorative=True,\n",
    "                          dark_mode=True)\n",
    "    \n",
    "    profile.to_file(\"visuals/titanic_eda_report.html\")\n",
    "    \n",
    "    print(\" Comprehensive EDA Report Generated!\")\n",
    "    print(\" Saved as: visuals/titanic_eda_report.html\")\n",
    "    \n",
    "except ImportError:\n",
    "    print(\" ydata-profiling not available. Install with: !pip install ydata-profiling\")\n"
   ]
  },
  {
   "cell_type": "code",
   "execution_count": null,
   "id": "dd86714b",
   "metadata": {
    "vscode": {
     "languageId": "plaintext"
    }
   },
   "outputs": [],
   "source": [
    "print(\" TITANIC SURVIVAL ANALYSIS - KEY INSIGHTS\")\n",
    "print(\"=\" * 60)\n",
    "\n",
    "total_passengers = len(df_clean)\n",
    "survival_rate = df_clean['survived'].mean() * 100\n",
    "female_survival = df_clean[df_clean['sex'] == 'female']['survived'].mean() * 100\n",
    "male_survival = df_clean[df_clean['sex'] == 'male']['survived'].mean() * 100\n",
    "\n",
    "class_survival = df_clean.groupby('pclass')['survived'].mean() * 100\n",
    "\n",
    "print(f\" OVERALL STATISTICS:\")\n",
    "print(f\"   • Total Passengers: {total_passengers:,}\")\n",
    "print(f\"   • Overall Survival Rate: {survival_rate:.1f}%\")\n",
    "print(f\"   • Female Survival Rate: {female_survival:.1f}%\")\n",
    "print(f\"   • Male Survival Rate: {male_survival:.1f}%\")\n",
    "print()\n",
    "\n",
    "print(f\" CLASS-BASED SURVIVAL:\")\n",
    "for class_num, rate in class_survival.items():\n",
    "    print(f\"   • Class {class_num}: {rate:.1f}%\")\n",
    "print()\n",
    "\n",
    "print(\" KEY BUSINESS INSIGHTS:\")\n",
    "print(\"   •  Gender was the strongest predictor of survival\")\n",
    "print(\"   •  Higher class passengers had significantly better survival rates\")\n",
    "print(\"   •  Children had higher survival rates than adults\")\n",
    "print(\"   •  Port of embarkation showed correlation with survival\")\n",
    "print(\"   •  Fare paid was strongly correlated with passenger class\")\n",
    "print()\n",
    "\n",
    "print(\" ACTIONABLE RECOMMENDATIONS:\")\n",
    "print(\"   • Emergency protocols should prioritize women and children\")\n",
    "print(\"   • Higher-paying passengers require premium safety measures\")\n",
    "print(\"   • Age-based evacuation strategies could improve outcomes\")\n",
    "print(\"   • Port-specific safety briefings may be beneficial\")\n",
    "\n",
    "print(\"\\n PORTFOLIO IMPACT:\")\n",
    "print(\"   • Demonstrates advanced data visualization skills\")\n",
    "print(\"   • Shows business acumen through actionable insights\")\n",
    "print(\"   • Exhibits technical proficiency across multiple libraries\")\n",
    "print(\"   • Proves ability to tell compelling data stories\")\n"
   ]
  }
 ],
 "metadata": {
  "language_info": {
   "name": "python"
  }
 },
 "nbformat": 4,
 "nbformat_minor": 5
}
